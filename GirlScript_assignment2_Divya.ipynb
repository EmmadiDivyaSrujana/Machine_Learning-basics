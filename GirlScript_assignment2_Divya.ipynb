{
  "nbformat": 4,
  "nbformat_minor": 0,
  "metadata": {
    "colab": {
      "name": "GirlScript_assignment2_Divya.ipynb",
      "provenance": [],
      "collapsed_sections": []
    },
    "kernelspec": {
      "name": "python3",
      "display_name": "Python 3"
    }
  },
  "cells": [
    {
      "cell_type": "markdown",
      "metadata": {
        "id": "om5aoR_Zw3Mx"
      },
      "source": [
        "# **SECTION A**\r\n",
        "\r\n",
        "MCQ ANSWERS\r\n",
        "\r\n",
        "A) 4\r\n",
        "\r\n",
        "B)  OPTION D Our training set can be fit perfectly by a straight line, i.e.,all of our training examples lie perfectly on some straight line.\r\n",
        "\r\n",
        "C) OPTION C θ_0=−569.6,θ_1=−530.9\r\n"
      ]
    },
    {
      "cell_type": "markdown",
      "metadata": {
        "id": "OgV1_yh9x9KE"
      },
      "source": [
        "# **SECTION B**"
      ]
    },
    {
      "cell_type": "code",
      "metadata": {
        "id": "w4BfG7ymoxYU"
      },
      "source": [
        "import numpy as np\r\n",
        "import pandas as pd\r\n",
        "import matplotlib.pyplot as plt\r\n"
      ],
      "execution_count": 25,
      "outputs": []
    },
    {
      "cell_type": "code",
      "metadata": {
        "colab": {
          "base_uri": "https://localhost:8080/",
          "height": 195
        },
        "id": "XRkryWzAmAz2",
        "outputId": "31485bf4-2aa5-4e5a-9ce9-4b70388ba043"
      },
      "source": [
        "dataset = pd.read_csv(\"https://raw.githubusercontent.com/content-anu/dataset-simple-linear/master/Salary_Data.csv\")\r\n",
        "dataset.head() "
      ],
      "execution_count": 26,
      "outputs": [
        {
          "output_type": "execute_result",
          "data": {
            "text/html": [
              "<div>\n",
              "<style scoped>\n",
              "    .dataframe tbody tr th:only-of-type {\n",
              "        vertical-align: middle;\n",
              "    }\n",
              "\n",
              "    .dataframe tbody tr th {\n",
              "        vertical-align: top;\n",
              "    }\n",
              "\n",
              "    .dataframe thead th {\n",
              "        text-align: right;\n",
              "    }\n",
              "</style>\n",
              "<table border=\"1\" class=\"dataframe\">\n",
              "  <thead>\n",
              "    <tr style=\"text-align: right;\">\n",
              "      <th></th>\n",
              "      <th>YearsExperience</th>\n",
              "      <th>Salary</th>\n",
              "    </tr>\n",
              "  </thead>\n",
              "  <tbody>\n",
              "    <tr>\n",
              "      <th>0</th>\n",
              "      <td>1.1</td>\n",
              "      <td>39343.0</td>\n",
              "    </tr>\n",
              "    <tr>\n",
              "      <th>1</th>\n",
              "      <td>1.3</td>\n",
              "      <td>46205.0</td>\n",
              "    </tr>\n",
              "    <tr>\n",
              "      <th>2</th>\n",
              "      <td>1.5</td>\n",
              "      <td>37731.0</td>\n",
              "    </tr>\n",
              "    <tr>\n",
              "      <th>3</th>\n",
              "      <td>2.0</td>\n",
              "      <td>43525.0</td>\n",
              "    </tr>\n",
              "    <tr>\n",
              "      <th>4</th>\n",
              "      <td>2.2</td>\n",
              "      <td>39891.0</td>\n",
              "    </tr>\n",
              "  </tbody>\n",
              "</table>\n",
              "</div>"
            ],
            "text/plain": [
              "   YearsExperience   Salary\n",
              "0              1.1  39343.0\n",
              "1              1.3  46205.0\n",
              "2              1.5  37731.0\n",
              "3              2.0  43525.0\n",
              "4              2.2  39891.0"
            ]
          },
          "metadata": {
            "tags": []
          },
          "execution_count": 26
        }
      ]
    },
    {
      "cell_type": "code",
      "metadata": {
        "id": "ilDroSigmYkd"
      },
      "source": [
        "X = dataset.iloc[:,:-1].values #independent variable array\r\n",
        "y = dataset.iloc[:,1].values #dependent variable vector "
      ],
      "execution_count": 27,
      "outputs": []
    },
    {
      "cell_type": "code",
      "metadata": {
        "id": "ffluWXiAmlmO"
      },
      "source": [
        "from sklearn.model_selection import train_test_split\r\n",
        "\r\n",
        "X_train, X_test, y_train, y_test =train_test_split(X,y,test_size=0.2,random_state=0)"
      ],
      "execution_count": 28,
      "outputs": []
    },
    {
      "cell_type": "code",
      "metadata": {
        "colab": {
          "base_uri": "https://localhost:8080/"
        },
        "id": "w41D73LuoGOm",
        "outputId": "1ca0a88b-e3fa-41fa-8f45-735281a6953b"
      },
      "source": [
        "from sklearn.linear_model import LinearRegression as lr\r\n",
        "\r\n",
        "regressor=lr(1500)\r\n",
        "\r\n",
        "regressor.fit(X_train,y_train)\r\n",
        "              "
      ],
      "execution_count": 29,
      "outputs": [
        {
          "output_type": "execute_result",
          "data": {
            "text/plain": [
              "LinearRegression(copy_X=True, fit_intercept=1500, n_jobs=None, normalize=False)"
            ]
          },
          "metadata": {
            "tags": []
          },
          "execution_count": 29
        }
      ]
    },
    {
      "cell_type": "markdown",
      "metadata": {
        "id": "3h5fYFEEwzoe"
      },
      "source": [
        ""
      ]
    },
    {
      "cell_type": "code",
      "metadata": {
        "colab": {
          "base_uri": "https://localhost:8080/"
        },
        "id": "41z_7vE3pUJt",
        "outputId": "ecc3caff-8ffe-497c-e0db-8a4dd35f51b6"
      },
      "source": [
        "y_pred=regressor.predict(X_test)\r\n",
        "y_pred\r\n"
      ],
      "execution_count": 30,
      "outputs": [
        {
          "output_type": "execute_result",
          "data": {
            "text/plain": [
              "array([ 40748.96184072, 122699.62295594,  64961.65717022,  63099.14214487,\n",
              "       115249.56285456, 107799.50275317])"
            ]
          },
          "metadata": {
            "tags": []
          },
          "execution_count": 30
        }
      ]
    },
    {
      "cell_type": "code",
      "metadata": {
        "colab": {
          "base_uri": "https://localhost:8080/",
          "height": 295
        },
        "id": "SSWpQ15puwZP",
        "outputId": "cd4a237d-3d15-4f00-c771-58bd9870ed57"
      },
      "source": [
        "plt.scatter(X_train, y_train,color=\"red\")\r\n",
        "plt.plot(X_train, regressor.predict(X_train),color=\"blue\")\r\n",
        "plt.title(\"Salary vs Experience\")\r\n",
        "plt.xlabel(\"Years of experience\")\r\n",
        "plt.ylabel(\"Salaries\")\r\n",
        "plt.show() "
      ],
      "execution_count": 32,
      "outputs": [
        {
          "output_type": "display_data",
          "data": {
            "image/png": "[encoded data removed]",
            "text/plain": [
              "<Figure size 432x288 with 1 Axes>"
            ]
          },
          "metadata": {
            "tags": [],
            "needs_background": "light"
          }
        }
      ]
    },
    {
      "cell_type": "code",
      "metadata": {
        "colab": {
          "base_uri": "https://localhost:8080/",
          "height": 295
        },
        "id": "i7GHhHfPweWN",
        "outputId": "8c76df79-d452-4542-850e-35d34ecd64b0"
      },
      "source": [
        "plt.scatter(X_test, y_test, color='red')\r\n",
        "plt.plot(X_train, regressor.predict(X_train), color='blue') \r\n",
        "\r\n",
        "plt.title(\"Salary vs Experience (Testing set)\")\r\n",
        "\r\n",
        "plt.xlabel(\"Years of experience\")\r\n",
        "plt.ylabel(\"Salaries\")\r\n",
        "plt.show() "
      ],
      "execution_count": 33,
      "outputs": [
        {
          "output_type": "display_data",
          "data": {
            "image/png": "[encoded data removed]",
            "text/plain": [
              "<Figure size 432x288 with 1 Axes>"
            ]
          },
          "metadata": {
            "tags": [],
            "needs_background": "light"
          }
        }
      ]
    }
  ]
}